{
 "cells": [
  {
   "cell_type": "code",
   "execution_count": null,
   "metadata": {},
   "outputs": [],
   "source": [
    "import pandas as pd\n",
    "import numpy as np"
   ]
  },
  {
   "cell_type": "code",
   "execution_count": null,
   "metadata": {},
   "outputs": [],
   "source": [
    "df = pd.read_csv('bank/bank-full.csv',sep=';')\n",
    "df.head()"
   ]
  },
  {
   "cell_type": "code",
   "execution_count": null,
   "metadata": {},
   "outputs": [],
   "source": [
    "#get unique values in each column\n",
    "for col in df.columns:\n",
    "    print(col, df[col].unique())\n",
    "    "
   ]
  },
  {
   "cell_type": "code",
   "execution_count": null,
   "metadata": {},
   "outputs": [],
   "source": [
    "#remove rows with unknown values\n",
    "df = df[(df['job'] != 'unknown') & (df['marital'] != 'unknown') & (df['education'] != 'unknown') & (df['default'] != 'unknown') & (df['housing'] != 'unknown') & (df['loan'] != 'unknown') & (df['contact'] != 'unknown') & (df['poutcome'] != 'unknown')]"
   ]
  },
  {
   "cell_type": "code",
   "execution_count": null,
   "metadata": {},
   "outputs": [],
   "source": [
    "for col in df.columns:\n",
    "    print(col, df[col].value_counts())"
   ]
  },
  {
   "cell_type": "code",
   "execution_count": null,
   "metadata": {},
   "outputs": [],
   "source": [
    "#drop multiple columns\n",
    "df = df.drop(['balance','day','pdays','duration'],axis=1)\n",
    "df.head()"
   ]
  },
  {
   "cell_type": "code",
   "execution_count": null,
   "metadata": {},
   "outputs": [],
   "source": [
    "df.shape"
   ]
  },
  {
   "cell_type": "code",
   "execution_count": null,
   "metadata": {},
   "outputs": [],
   "source": [
    "#re index the dataframe\n",
    "df = df.reset_index(drop=True)\n",
    "df.head()"
   ]
  },
  {
   "cell_type": "code",
   "execution_count": null,
   "metadata": {},
   "outputs": [],
   "source": [
    "#use label encoder to convert categorical values to numerical values\n",
    "from sklearn.preprocessing import LabelEncoder\n",
    "le = LabelEncoder()\n",
    "for col in ['job','marital','education','default','housing','loan','contact','poutcome','y']:\n",
    "    df[col] = le.fit_transform(df[col])\n",
    "df.head()\n"
   ]
  },
  {
   "cell_type": "code",
   "execution_count": null,
   "metadata": {},
   "outputs": [],
   "source": [
    "#map month to numerical values\n",
    "month_map = {'jan':1,'feb':2,'mar':3,'apr':4,'may':5,'jun':6,'jul':7,'aug':8,'sep':9,'oct':10,'nov':11,'dec':12}\n",
    "df['month'] = df['month'].map(month_map)\n",
    "df.head()"
   ]
  },
  {
   "cell_type": "code",
   "execution_count": null,
   "metadata": {},
   "outputs": [],
   "source": [
    "for col in df.columns:\n",
    "    print(col, df[col].unique())"
   ]
  },
  {
   "cell_type": "code",
   "execution_count": null,
   "metadata": {},
   "outputs": [],
   "source": [
    "sample_dict = {}\n",
    "for i in range (10):\n",
    "    sample_dict['S'+str(i+1)] = df.sample(frac=0.25,replace=False)\n",
    "\n",
    "sample_dict"
   ]
  },
  {
   "cell_type": "code",
   "execution_count": null,
   "metadata": {},
   "outputs": [],
   "source": [
    "#import svm\n",
    "#over sampler\n",
    "from imblearn.over_sampling import SMOTE\n",
    "\n",
    "import random\n",
    "from sklearn.svm import SVC\n",
    "from sklearn.metrics import accuracy_score\n",
    "from sklearn.model_selection import train_test_split\n",
    "from sklearn.preprocessing import StandardScaler\n",
    "kernel_list = ['linear','poly','rbf','sigmoid']\n",
    "best_kernel = ''\n",
    "best_accuracy = 0\n",
    "best_C = 0\n",
    "best_gamma = 0\n",
    "result_dict = {}\n",
    "\n",
    "for key, value in sample_dict.items():\n",
    "    sample_df = value\n",
    "    X = sample_df.drop('y',axis=1)\n",
    "    feature_name = X.columns\n",
    "    y = sample_df['y']\n",
    "    X_train, X_test, y_train, y_test = train_test_split(X,y,test_size=0.3)\n",
    "    sm = SMOTE(random_state=2)\n",
    "    X_train, y_train = sm.fit_resample(X_train, y_train)\n",
    "    \n",
    "    scaler = StandardScaler()\n",
    "    X_train = scaler.fit_transform(X_train)\n",
    "    \n",
    "    for iter in range(1000):\n",
    "        kernel = random.choice(kernel_list)\n",
    "       \n",
    "        C = random.uniform(0,1)\n",
    "        gamma = random.uniform(0,1)\n",
    "        model = SVC(kernel=kernel,C=C,gamma=gamma,max_iter=2)\n",
    "        model.fit(X_train,y_train)\n",
    "        y_pred = model.predict(X_test)\n",
    "        accuracy = accuracy_score(y_test,y_pred)\n",
    "        if accuracy > best_accuracy:\n",
    "            best_accuracy = accuracy\n",
    "            best_kernel = kernel\n",
    "            best_C = C\n",
    "            best_gamma = gamma\n",
    "    result_dict[key] = {'accuracy' : best_accuracy, 'kernel' : best_kernel, 'C' : best_C, 'gamma' : best_gamma}\n",
    "    print('Best accuracy for sample ',key,' is ',best_accuracy)\n",
    "\n",
    "\n",
    "    "
   ]
  },
  {
   "cell_type": "code",
   "execution_count": null,
   "metadata": {},
   "outputs": [],
   "source": [
    "print(result_dict)"
   ]
  },
  {
   "cell_type": "code",
   "execution_count": null,
   "metadata": {},
   "outputs": [],
   "source": [
    "#convert dict to dataframe\n",
    "result_df = pd.DataFrame(result_dict)\n",
    "result_df = result_df.transpose()\n",
    "result_df"
   ]
  },
  {
   "cell_type": "code",
   "execution_count": null,
   "metadata": {},
   "outputs": [],
   "source": [
    "max_accuracy = result_df['accuracy'].max()\n",
    "best_sample_key = result_df[result_df['accuracy'] == max_accuracy].index[0]\n",
    "best_sample_key"
   ]
  },
  {
   "cell_type": "code",
   "execution_count": null,
   "metadata": {},
   "outputs": [],
   "source": [
    "best_sample = sample_dict[best_sample_key]\n",
    "best_sample.head()"
   ]
  },
  {
   "cell_type": "code",
   "execution_count": null,
   "metadata": {},
   "outputs": [],
   "source": [
    "kernel_list = ['linear','poly','rbf','sigmoid']\n",
    "accuracy_list = []\n",
    "best_accuracy = 0\n",
    "\n",
    "\n",
    "\n",
    "X = sample_df.drop('y',axis=1)\n",
    "feature_name = X.columns\n",
    "y = sample_df['y']\n",
    "X_train, X_test, y_train, y_test = train_test_split(X,y,test_size=0.3)\n",
    "sm = SMOTE(random_state=2)\n",
    "X_train, y_train = sm.fit_resample(X_train, y_train)\n",
    "\n",
    "scaler = StandardScaler()\n",
    "X_train = scaler.fit_transform(X_train)\n",
    "\n",
    "for iter in range(1000):\n",
    "    kernel = random.choice(kernel_list)\n",
    "    \n",
    "    C = random.uniform(0,1)\n",
    "    gamma = random.uniform(0,1)\n",
    "    model = SVC(kernel=kernel,C=C,gamma=gamma,max_iter=2)\n",
    "    model.fit(X_train,y_train)\n",
    "    y_pred = model.predict(X_test)\n",
    "    accuracy = accuracy_score(y_test,y_pred)\n",
    "    if accuracy > best_accuracy:\n",
    "        best_accuracy = accuracy\n",
    "    accuracy_list.append(best_accuracy)\n",
    "        \n",
    "   "
   ]
  },
  {
   "cell_type": "code",
   "execution_count": null,
   "metadata": {},
   "outputs": [],
   "source": [
    "import matplotlib.pyplot as plt\n",
    "plt.plot(accuracy_list)"
   ]
  }
 ],
 "metadata": {
  "language_info": {
   "name": "python"
  }
 },
 "nbformat": 4,
 "nbformat_minor": 2
}
